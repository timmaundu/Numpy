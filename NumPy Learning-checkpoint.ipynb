{
 "cells": [
  {
   "cell_type": "code",
   "execution_count": 1,
   "id": "561d9ab2",
   "metadata": {},
   "outputs": [],
   "source": [
    "#import library\n",
    "import pandas as pd\n",
    "import numpy as np"
   ]
  },
  {
   "cell_type": "markdown",
   "id": "5727bb35",
   "metadata": {},
   "source": [
    "### Working with np"
   ]
  },
  {
   "cell_type": "code",
   "execution_count": 2,
   "id": "11e33168",
   "metadata": {},
   "outputs": [
    {
     "data": {
      "text/plain": [
       "array([1, 2, 3])"
      ]
     },
     "execution_count": 2,
     "metadata": {},
     "output_type": "execute_result"
    }
   ],
   "source": [
    "d1 = np.array([1,2,3])\n",
    "d1"
   ]
  },
  {
   "cell_type": "code",
   "execution_count": 3,
   "id": "85ce1a9f",
   "metadata": {},
   "outputs": [
    {
     "data": {
      "text/plain": [
       "array([[1, 2, 3, 4, 5],\n",
       "       [2, 4, 5, 6, 7]])"
      ]
     },
     "execution_count": 3,
     "metadata": {},
     "output_type": "execute_result"
    }
   ],
   "source": [
    "d2 = np.array([[1,2,3,4,5],\n",
    "              [2,4,5,6,7]])\n",
    "d2"
   ]
  },
  {
   "cell_type": "code",
   "execution_count": 4,
   "id": "225b3ee3",
   "metadata": {},
   "outputs": [
    {
     "data": {
      "text/plain": [
       "array([[[1, 2, 3, 4, 5],\n",
       "        [2, 4, 5, 6, 7],\n",
       "        [3, 4, 5, 6, 7]]])"
      ]
     },
     "execution_count": 4,
     "metadata": {},
     "output_type": "execute_result"
    }
   ],
   "source": [
    "d3 = np.array([[[1,2,3,4,5],\n",
    "              [2,4,5,6,7],\n",
    "              [3,4,5,6,7]]])\n",
    "d3"
   ]
  },
  {
   "cell_type": "code",
   "execution_count": 5,
   "id": "9a04937a",
   "metadata": {},
   "outputs": [
    {
     "data": {
      "text/plain": [
       "(1, 3, 5)"
      ]
     },
     "execution_count": 5,
     "metadata": {},
     "output_type": "execute_result"
    }
   ],
   "source": [
    "d3.shape"
   ]
  },
  {
   "cell_type": "code",
   "execution_count": 6,
   "id": "f5340892",
   "metadata": {},
   "outputs": [
    {
     "data": {
      "text/plain": [
       "15"
      ]
     },
     "execution_count": 6,
     "metadata": {},
     "output_type": "execute_result"
    }
   ],
   "source": [
    "d3.size"
   ]
  },
  {
   "cell_type": "code",
   "execution_count": 7,
   "id": "0c4f64a9",
   "metadata": {},
   "outputs": [
    {
     "data": {
      "text/plain": [
       "(3,)"
      ]
     },
     "execution_count": 7,
     "metadata": {},
     "output_type": "execute_result"
    }
   ],
   "source": [
    "d1.shape"
   ]
  },
  {
   "cell_type": "code",
   "execution_count": 8,
   "id": "9ea64172",
   "metadata": {},
   "outputs": [
    {
     "data": {
      "text/plain": [
       "(2, 5)"
      ]
     },
     "execution_count": 8,
     "metadata": {},
     "output_type": "execute_result"
    }
   ],
   "source": [
    "d2.shape"
   ]
  },
  {
   "cell_type": "markdown",
   "id": "e4a3c39f",
   "metadata": {},
   "source": [
    "### Make a dataframe from a numpy"
   ]
  },
  {
   "cell_type": "code",
   "execution_count": 9,
   "id": "f53d1bfb",
   "metadata": {},
   "outputs": [
    {
     "data": {
      "text/html": [
       "<div>\n",
       "<style scoped>\n",
       "    .dataframe tbody tr th:only-of-type {\n",
       "        vertical-align: middle;\n",
       "    }\n",
       "\n",
       "    .dataframe tbody tr th {\n",
       "        vertical-align: top;\n",
       "    }\n",
       "\n",
       "    .dataframe thead th {\n",
       "        text-align: right;\n",
       "    }\n",
       "</style>\n",
       "<table border=\"1\" class=\"dataframe\">\n",
       "  <thead>\n",
       "    <tr style=\"text-align: right;\">\n",
       "      <th></th>\n",
       "      <th>0</th>\n",
       "      <th>1</th>\n",
       "      <th>2</th>\n",
       "      <th>3</th>\n",
       "      <th>4</th>\n",
       "    </tr>\n",
       "  </thead>\n",
       "  <tbody>\n",
       "    <tr>\n",
       "      <th>0</th>\n",
       "      <td>1</td>\n",
       "      <td>2</td>\n",
       "      <td>3</td>\n",
       "      <td>4</td>\n",
       "      <td>5</td>\n",
       "    </tr>\n",
       "    <tr>\n",
       "      <th>1</th>\n",
       "      <td>2</td>\n",
       "      <td>4</td>\n",
       "      <td>5</td>\n",
       "      <td>6</td>\n",
       "      <td>7</td>\n",
       "    </tr>\n",
       "  </tbody>\n",
       "</table>\n",
       "</div>"
      ],
      "text/plain": [
       "   0  1  2  3  4\n",
       "0  1  2  3  4  5\n",
       "1  2  4  5  6  7"
      ]
     },
     "execution_count": 9,
     "metadata": {},
     "output_type": "execute_result"
    }
   ],
   "source": [
    "\n",
    "import pandas as pd\n",
    "df = pd.DataFrame(d2)\n",
    "df"
   ]
  },
  {
   "cell_type": "code",
   "execution_count": 10,
   "id": "24ddda87",
   "metadata": {},
   "outputs": [
    {
     "data": {
      "text/plain": [
       "array([[1, 2, 3, 4, 5],\n",
       "       [2, 4, 5, 6, 7]])"
      ]
     },
     "execution_count": 10,
     "metadata": {},
     "output_type": "execute_result"
    }
   ],
   "source": [
    "d2"
   ]
  },
  {
   "cell_type": "code",
   "execution_count": 11,
   "id": "1d49dcaf",
   "metadata": {},
   "outputs": [
    {
     "data": {
      "text/plain": [
       "(dtype('int32'), dtype('int32'), dtype('int32'))"
      ]
     },
     "execution_count": 11,
     "metadata": {},
     "output_type": "execute_result"
    }
   ],
   "source": [
    "d2.dtype, d1.dtype, d3.dtype"
   ]
  },
  {
   "cell_type": "markdown",
   "id": "42c1e3b7",
   "metadata": {},
   "source": [
    "### Generating random arrays with different functions\n"
   ]
  },
  {
   "cell_type": "code",
   "execution_count": 12,
   "id": "298e519c",
   "metadata": {},
   "outputs": [
    {
     "data": {
      "text/plain": [
       "array([9, 1, 9, 5, 0, 4, 6, 7])"
      ]
     },
     "execution_count": 12,
     "metadata": {},
     "output_type": "execute_result"
    }
   ],
   "source": [
    "sample = np.random.randint(0,10, size=8,)\n",
    "sample"
   ]
  },
  {
   "cell_type": "code",
   "execution_count": 13,
   "id": "d0e081a1",
   "metadata": {},
   "outputs": [
    {
     "data": {
      "text/plain": [
       "array([ 0,  3,  6,  9, 12, 15, 18])"
      ]
     },
     "execution_count": 13,
     "metadata": {},
     "output_type": "execute_result"
    }
   ],
   "source": [
    "sample2 = np.arange(0,20,3)\n",
    "sample2"
   ]
  },
  {
   "cell_type": "code",
   "execution_count": 14,
   "id": "fb797635",
   "metadata": {},
   "outputs": [
    {
     "data": {
      "text/plain": [
       "array([0.31588243, 0.61973374, 0.4480912 , 0.86112104, 0.75818339,\n",
       "       0.02696864, 0.67538196, 0.30684395, 0.21342912, 0.09271854,\n",
       "       0.74622769, 0.95883299, 0.87990163, 0.99797825, 0.33371386])"
      ]
     },
     "execution_count": 14,
     "metadata": {},
     "output_type": "execute_result"
    }
   ],
   "source": [
    "sample3 = np.random.random(size = 15)\n",
    "sample3"
   ]
  },
  {
   "cell_type": "code",
   "execution_count": 15,
   "id": "561eeb61",
   "metadata": {},
   "outputs": [
    {
     "data": {
      "text/plain": [
       "array([1., 1., 1., 1., 1., 1., 1., 1., 1., 1.])"
      ]
     },
     "execution_count": 15,
     "metadata": {},
     "output_type": "execute_result"
    }
   ],
   "source": [
    "sample4 = np.ones(10)\n",
    "sample4 "
   ]
  },
  {
   "cell_type": "code",
   "execution_count": 16,
   "id": "65576140",
   "metadata": {},
   "outputs": [
    {
     "data": {
      "text/plain": [
       "array([[0., 0., 0., 0.],\n",
       "       [0., 0., 0., 0.]])"
      ]
     },
     "execution_count": 16,
     "metadata": {},
     "output_type": "execute_result"
    }
   ],
   "source": [
    "sample5 = np.zeros((2,4))\n",
    "sample5"
   ]
  },
  {
   "cell_type": "code",
   "execution_count": 17,
   "id": "15d74cb9",
   "metadata": {},
   "outputs": [
    {
     "data": {
      "text/plain": [
       "dtype('float64')"
      ]
     },
     "execution_count": 17,
     "metadata": {},
     "output_type": "execute_result"
    }
   ],
   "source": [
    "sample3.dtype"
   ]
  },
  {
   "cell_type": "code",
   "execution_count": 18,
   "id": "f8bc8329",
   "metadata": {},
   "outputs": [
    {
     "data": {
      "text/plain": [
       "7"
      ]
     },
     "execution_count": 18,
     "metadata": {},
     "output_type": "execute_result"
    }
   ],
   "source": [
    "sample2.size"
   ]
  },
  {
   "cell_type": "markdown",
   "id": "bec4be87",
   "metadata": {},
   "source": [
    "### random seed function which help in locking the random generated values\n"
   ]
  },
  {
   "cell_type": "code",
   "execution_count": 19,
   "id": "ead930de",
   "metadata": {},
   "outputs": [
    {
     "data": {
      "text/plain": [
       "array([[8, 9, 3, 8, 8],\n",
       "       [0, 5, 3, 9, 9],\n",
       "       [5, 7, 6, 0, 4]])"
      ]
     },
     "execution_count": 19,
     "metadata": {},
     "output_type": "execute_result"
    }
   ],
   "source": [
    "np.random.seed(3)\n",
    "sample6 = np.random.randint(10, size =(3,5))\n",
    "sample6"
   ]
  },
  {
   "cell_type": "code",
   "execution_count": 20,
   "id": "c60faa11",
   "metadata": {},
   "outputs": [
    {
     "data": {
      "text/plain": [
       "array([[0.5488135 , 0.71518937, 0.60276338, 0.54488318, 0.4236548 ],\n",
       "       [0.64589411, 0.43758721, 0.891773  , 0.96366276, 0.38344152]])"
      ]
     },
     "execution_count": 20,
     "metadata": {},
     "output_type": "execute_result"
    }
   ],
   "source": [
    "np.random.seed(0)\n",
    "sample7 = np.random.random(size =(2,5))\n",
    "sample7"
   ]
  },
  {
   "cell_type": "code",
   "execution_count": 21,
   "id": "e346cbc2",
   "metadata": {},
   "outputs": [
    {
     "data": {
      "text/plain": [
       "((3, 5), (2, 5))"
      ]
     },
     "execution_count": 21,
     "metadata": {},
     "output_type": "execute_result"
    }
   ],
   "source": [
    "sample6.shape, sample7.shape"
   ]
  },
  {
   "cell_type": "markdown",
   "id": "abb16150",
   "metadata": {},
   "source": [
    "### Manipulating Arrays"
   ]
  },
  {
   "cell_type": "code",
   "execution_count": 22,
   "id": "4334828c",
   "metadata": {},
   "outputs": [
    {
     "data": {
      "text/plain": [
       "array([[[[6, 7, 7, 8, 1],\n",
       "         [5, 9, 8, 9, 4],\n",
       "         [3, 0, 3, 5, 0],\n",
       "         [2, 3, 8, 1, 3],\n",
       "         [3, 3, 7, 0, 1],\n",
       "         [9, 9, 0, 4, 7]],\n",
       "\n",
       "        [[3, 2, 7, 2, 0],\n",
       "         [0, 4, 5, 5, 6],\n",
       "         [8, 4, 1, 4, 9],\n",
       "         [8, 1, 1, 7, 9],\n",
       "         [9, 3, 6, 7, 2],\n",
       "         [0, 3, 5, 9, 4]],\n",
       "\n",
       "        [[4, 6, 4, 4, 3],\n",
       "         [4, 4, 8, 4, 3],\n",
       "         [7, 5, 5, 0, 1],\n",
       "         [5, 9, 3, 0, 5],\n",
       "         [0, 1, 2, 4, 2],\n",
       "         [0, 3, 2, 0, 7]]]])"
      ]
     },
     "execution_count": 22,
     "metadata": {},
     "output_type": "execute_result"
    }
   ],
   "source": [
    "\n",
    "sample8 = np.random.randint(10, size =(1,3,6,5))\n",
    "sample8"
   ]
  },
  {
   "cell_type": "markdown",
   "id": "288124ea",
   "metadata": {},
   "source": [
    "### Locate any needed array value\n"
   ]
  },
  {
   "cell_type": "code",
   "execution_count": 23,
   "id": "5c7f3f4c",
   "metadata": {},
   "outputs": [
    {
     "data": {
      "text/plain": [
       "array([[[4, 6, 4, 4],\n",
       "        [4, 4, 8, 4],\n",
       "        [7, 5, 5, 0],\n",
       "        [5, 9, 3, 0],\n",
       "        [0, 1, 2, 4],\n",
       "        [0, 3, 2, 0]]])"
      ]
     },
     "execution_count": 23,
     "metadata": {},
     "output_type": "execute_result"
    }
   ],
   "source": [
    "sample8[:,2,:,:4]\n"
   ]
  },
  {
   "cell_type": "markdown",
   "id": "babbdb38",
   "metadata": {},
   "source": [
    "### Arithmentic calculations of arrays\n"
   ]
  },
  {
   "cell_type": "code",
   "execution_count": 24,
   "id": "14d2025b",
   "metadata": {},
   "outputs": [
    {
     "data": {
      "text/plain": [
       "array([[8, 9, 3, 8, 8],\n",
       "       [0, 5, 3, 9, 9],\n",
       "       [5, 7, 6, 0, 4]])"
      ]
     },
     "execution_count": 24,
     "metadata": {},
     "output_type": "execute_result"
    }
   ],
   "source": [
    "sample6\n"
   ]
  },
  {
   "cell_type": "code",
   "execution_count": 25,
   "id": "f5b19b2d",
   "metadata": {},
   "outputs": [
    {
     "data": {
      "text/plain": [
       "array([[64, 81,  9, 64, 64],\n",
       "       [ 0, 25,  9, 81, 81],\n",
       "       [25, 49, 36,  0, 16]])"
      ]
     },
     "execution_count": 25,
     "metadata": {},
     "output_type": "execute_result"
    }
   ],
   "source": [
    "sample6 ** 2"
   ]
  },
  {
   "cell_type": "code",
   "execution_count": 26,
   "id": "8967818e",
   "metadata": {},
   "outputs": [
    {
     "data": {
      "text/plain": [
       "array([[2.66666667, 3.        , 1.        , 2.66666667, 2.66666667],\n",
       "       [0.        , 1.66666667, 1.        , 3.        , 3.        ],\n",
       "       [1.66666667, 2.33333333, 2.        , 0.        , 1.33333333]])"
      ]
     },
     "execution_count": 26,
     "metadata": {},
     "output_type": "execute_result"
    }
   ],
   "source": [
    "sample6 / 3"
   ]
  },
  {
   "cell_type": "code",
   "execution_count": 27,
   "id": "3667254c",
   "metadata": {},
   "outputs": [
    {
     "data": {
      "text/plain": [
       "array([[0, 1, 1, 0, 0],\n",
       "       [0, 1, 1, 1, 1],\n",
       "       [1, 1, 0, 0, 0]], dtype=int32)"
      ]
     },
     "execution_count": 27,
     "metadata": {},
     "output_type": "execute_result"
    }
   ],
   "source": [
    "sample6 % 2"
   ]
  },
  {
   "cell_type": "code",
   "execution_count": 28,
   "id": "63101782",
   "metadata": {},
   "outputs": [
    {
     "data": {
      "text/plain": [
       "array([[11, 12,  6, 11, 11],\n",
       "       [ 3,  8,  6, 12, 12],\n",
       "       [ 8, 10,  9,  3,  7]])"
      ]
     },
     "execution_count": 28,
     "metadata": {},
     "output_type": "execute_result"
    }
   ],
   "source": [
    "sample6 + 3"
   ]
  },
  {
   "cell_type": "code",
   "execution_count": 29,
   "id": "3129fb2d",
   "metadata": {},
   "outputs": [
    {
     "data": {
      "text/plain": [
       "array([[8, 9, 3, 8, 8],\n",
       "       [0, 5, 3, 9, 9],\n",
       "       [5, 7, 6, 0, 4]])"
      ]
     },
     "execution_count": 29,
     "metadata": {},
     "output_type": "execute_result"
    }
   ],
   "source": [
    "sample6"
   ]
  },
  {
   "cell_type": "code",
   "execution_count": 30,
   "id": "2909913d",
   "metadata": {},
   "outputs": [
    {
     "data": {
      "text/plain": [
       "0"
      ]
     },
     "execution_count": 30,
     "metadata": {},
     "output_type": "execute_result"
    }
   ],
   "source": [
    "np.min(sample6)"
   ]
  },
  {
   "cell_type": "markdown",
   "id": "618abac3",
   "metadata": {},
   "source": [
    "### Variance & Starndard deviation\n"
   ]
  },
  {
   "cell_type": "code",
   "execution_count": 31,
   "id": "5cdb1492",
   "metadata": {},
   "outputs": [
    {
     "data": {
      "text/plain": [
       "2.9844039047465856"
      ]
     },
     "execution_count": 31,
     "metadata": {},
     "output_type": "execute_result"
    }
   ],
   "source": [
    "sd = np.std(sample6)\n",
    "sd"
   ]
  },
  {
   "cell_type": "code",
   "execution_count": 32,
   "id": "a964e662",
   "metadata": {},
   "outputs": [
    {
     "data": {
      "text/plain": [
       "8.906666666666666"
      ]
     },
     "execution_count": 32,
     "metadata": {},
     "output_type": "execute_result"
    }
   ],
   "source": [
    "np.var(sample6)"
   ]
  },
  {
   "cell_type": "code",
   "execution_count": 33,
   "id": "35570a53",
   "metadata": {},
   "outputs": [
    {
     "data": {
      "text/plain": [
       "5.6"
      ]
     },
     "execution_count": 33,
     "metadata": {},
     "output_type": "execute_result"
    }
   ],
   "source": [
    "np.mean(sample6)"
   ]
  },
  {
   "cell_type": "code",
   "execution_count": 34,
   "id": "ab75ddf6",
   "metadata": {},
   "outputs": [
    {
     "data": {
      "text/plain": [
       "array([[21, 73,  0],\n",
       "       [10, 43, 58]])"
      ]
     },
     "execution_count": 34,
     "metadata": {},
     "output_type": "execute_result"
    }
   ],
   "source": [
    "sample9 = np.random.randint(100, size =(2,3))\n",
    "sample9"
   ]
  },
  {
   "cell_type": "code",
   "execution_count": 35,
   "id": "9b7733c5",
   "metadata": {},
   "outputs": [
    {
     "data": {
      "text/plain": [
       "34.166666666666664"
      ]
     },
     "execution_count": 35,
     "metadata": {},
     "output_type": "execute_result"
    }
   ],
   "source": [
    "np.mean(sample9)"
   ]
  },
  {
   "cell_type": "code",
   "execution_count": 36,
   "id": "c2e9541e",
   "metadata": {},
   "outputs": [
    {
     "data": {
      "text/plain": [
       "26.0730810522185"
      ]
     },
     "execution_count": 36,
     "metadata": {},
     "output_type": "execute_result"
    }
   ],
   "source": [
    "np.std(sample9)"
   ]
  },
  {
   "cell_type": "code",
   "execution_count": 37,
   "id": "b4cadd9e",
   "metadata": {},
   "outputs": [
    {
     "data": {
      "text/plain": [
       "679.8055555555555"
      ]
     },
     "execution_count": 37,
     "metadata": {},
     "output_type": "execute_result"
    }
   ],
   "source": [
    "np.var(sample9)"
   ]
  },
  {
   "cell_type": "code",
   "execution_count": 38,
   "id": "20fcfd43",
   "metadata": {},
   "outputs": [
    {
     "data": {
      "image/png": "[encoded data removed]",
      "text/plain": [
       "<Figure size 640x480 with 1 Axes>"
      ]
     },
     "metadata": {},
     "output_type": "display_data"
    }
   ],
   "source": [
    "import matplotlib.pyplot as plt\n",
    "plt.hist(sample9)\n",
    "plt.show()"
   ]
  },
  {
   "cell_type": "code",
   "execution_count": 39,
   "id": "0d042ee4",
   "metadata": {},
   "outputs": [
    {
     "data": {
      "text/plain": [
       "array([[1, 2, 3, 4, 5],\n",
       "       [2, 4, 5, 6, 7]])"
      ]
     },
     "execution_count": 39,
     "metadata": {},
     "output_type": "execute_result"
    }
   ],
   "source": [
    "d2"
   ]
  },
  {
   "cell_type": "code",
   "execution_count": 40,
   "id": "bab0b3c6",
   "metadata": {},
   "outputs": [
    {
     "data": {
      "text/plain": [
       "(2, 5)"
      ]
     },
     "execution_count": 40,
     "metadata": {},
     "output_type": "execute_result"
    }
   ],
   "source": [
    "d2.shape"
   ]
  },
  {
   "cell_type": "code",
   "execution_count": 41,
   "id": "9536833e",
   "metadata": {},
   "outputs": [
    {
     "data": {
      "text/plain": [
       "array([[[1, 2, 3, 4, 5],\n",
       "        [2, 4, 5, 6, 7],\n",
       "        [3, 4, 5, 6, 7]]])"
      ]
     },
     "execution_count": 41,
     "metadata": {},
     "output_type": "execute_result"
    }
   ],
   "source": [
    "d3"
   ]
  },
  {
   "cell_type": "code",
   "execution_count": 42,
   "id": "1567e06e",
   "metadata": {},
   "outputs": [
    {
     "data": {
      "text/plain": [
       "(1, 3, 5)"
      ]
     },
     "execution_count": 42,
     "metadata": {},
     "output_type": "execute_result"
    }
   ],
   "source": [
    "d3.shape"
   ]
  },
  {
   "cell_type": "code",
   "execution_count": 43,
   "id": "264b875b",
   "metadata": {},
   "outputs": [
    {
     "data": {
      "text/plain": [
       "array([[1, 2],\n",
       "       [2, 4],\n",
       "       [3, 5],\n",
       "       [4, 6],\n",
       "       [5, 7]])"
      ]
     },
     "execution_count": 43,
     "metadata": {},
     "output_type": "execute_result"
    }
   ],
   "source": [
    "d2.T"
   ]
  },
  {
   "cell_type": "code",
   "execution_count": 44,
   "id": "4db7f47f",
   "metadata": {},
   "outputs": [
    {
     "data": {
      "text/plain": [
       "(5, 2)"
      ]
     },
     "execution_count": 44,
     "metadata": {},
     "output_type": "execute_result"
    }
   ],
   "source": [
    "d2.T.shape"
   ]
  },
  {
   "cell_type": "code",
   "execution_count": 45,
   "id": "a31c427b",
   "metadata": {},
   "outputs": [
    {
     "data": {
      "text/plain": [
       "(5, 3, 1)"
      ]
     },
     "execution_count": 45,
     "metadata": {},
     "output_type": "execute_result"
    }
   ],
   "source": [
    "d3.T.shape"
   ]
  },
  {
   "cell_type": "markdown",
   "id": "e6db3cd1",
   "metadata": {},
   "source": [
    "### The use of Transpose in array"
   ]
  },
  {
   "cell_type": "code",
   "execution_count": 46,
   "id": "1716980e",
   "metadata": {},
   "outputs": [
    {
     "data": {
      "text/plain": [
       "array([[24,  3, 56],\n",
       "       [72,  0, 21],\n",
       "       [19, 74, 41],\n",
       "       [10, 21, 38],\n",
       "       [96, 20, 44]])"
      ]
     },
     "execution_count": 46,
     "metadata": {},
     "output_type": "execute_result"
    }
   ],
   "source": [
    "np.random.seed(3)\n",
    "sam1 = np.random.randint(100, size =(5,3))\n",
    "sam1"
   ]
  },
  {
   "cell_type": "code",
   "execution_count": 47,
   "id": "0da2e5e2",
   "metadata": {},
   "outputs": [
    {
     "data": {
      "text/plain": [
       "(5, 3)"
      ]
     },
     "execution_count": 47,
     "metadata": {},
     "output_type": "execute_result"
    }
   ],
   "source": [
    "np.random.seed(2)\n",
    "sam2 = np.random.randint(100, size =(5,3))\n",
    "sam2.shape"
   ]
  },
  {
   "cell_type": "code",
   "execution_count": 48,
   "id": "91f6ac43",
   "metadata": {},
   "outputs": [
    {
     "data": {
      "text/plain": [
       "array([[ 960,   45, 4032],\n",
       "       [1584,    0, 1722],\n",
       "       [1425,  518, 1394],\n",
       "       [ 490, 1995, 2850],\n",
       "       [8160,  940, 2772]])"
      ]
     },
     "execution_count": 48,
     "metadata": {},
     "output_type": "execute_result"
    }
   ],
   "source": [
    "#Multiplication of two different arrays\n",
    "sam1 * sam2"
   ]
  },
  {
   "cell_type": "code",
   "execution_count": 49,
   "id": "42a614bb",
   "metadata": {},
   "outputs": [
    {
     "ename": "ValueError",
     "evalue": "shapes (5,3) and (5,3) not aligned: 3 (dim 1) != 5 (dim 0)",
     "output_type": "error",
     "traceback": [
      "\u001b[1;31m---------------------------------------------------------------------------\u001b[0m",
      "\u001b[1;31mValueError\u001b[0m                                Traceback (most recent call last)",
      "Cell \u001b[1;32mIn[49], line 2\u001b[0m\n\u001b[0;32m      1\u001b[0m \u001b[38;5;66;03m#Use of np.dot() to multiply\u001b[39;00m\n\u001b[1;32m----> 2\u001b[0m \u001b[43mnp\u001b[49m\u001b[38;5;241;43m.\u001b[39;49m\u001b[43mdot\u001b[49m\u001b[43m(\u001b[49m\u001b[43msam1\u001b[49m\u001b[43m,\u001b[49m\u001b[43msam2\u001b[49m\u001b[43m)\u001b[49m\n",
      "File \u001b[1;32m<__array_function__ internals>:180\u001b[0m, in \u001b[0;36mdot\u001b[1;34m(*args, **kwargs)\u001b[0m\n",
      "\u001b[1;31mValueError\u001b[0m: shapes (5,3) and (5,3) not aligned: 3 (dim 1) != 5 (dim 0)"
     ]
    }
   ],
   "source": [
    "#Use of np.dot() to multiply\n",
    "np.dot(sam1,sam2)"
   ]
  },
  {
   "cell_type": "code",
   "execution_count": 50,
   "id": "193ca612",
   "metadata": {},
   "outputs": [
    {
     "data": {
      "text/plain": [
       "array([[40, 22, 75, 49, 85],\n",
       "       [15, 43,  7, 95, 47],\n",
       "       [72, 82, 34, 75, 63]])"
      ]
     },
     "execution_count": 50,
     "metadata": {},
     "output_type": "execute_result"
    }
   ],
   "source": [
    "# We have to transpose one of the arrays to ensure the function works\n",
    "sam2.T"
   ]
  },
  {
   "cell_type": "code",
   "execution_count": 51,
   "id": "d89b5362",
   "metadata": {},
   "outputs": [
    {
     "data": {
      "text/plain": [
       "array([[40, 22, 75, 49, 85],\n",
       "       [15, 43,  7, 95, 47],\n",
       "       [72, 82, 34, 75, 63]])"
      ]
     },
     "execution_count": 51,
     "metadata": {},
     "output_type": "execute_result"
    }
   ],
   "source": [
    "sam2T = sam2.T\n",
    "sam2T"
   ]
  },
  {
   "cell_type": "code",
   "execution_count": 52,
   "id": "9162a730",
   "metadata": {
    "scrolled": true
   },
   "outputs": [
    {
     "data": {
      "text/plain": [
       "array([[ 5037,  5249,  3725,  5661,  5709],\n",
       "       [ 4392,  3306,  6114,  5103,  7443],\n",
       "       [ 4822,  6962,  3337, 11036,  7676],\n",
       "       [ 3451,  4239,  2189,  5335,  4231],\n",
       "       [ 7308,  6580,  8836,  9904, 11872]])"
      ]
     },
     "execution_count": 52,
     "metadata": {},
     "output_type": "execute_result"
    }
   ],
   "source": [
    "#The np.dot() functions well and performs the calculation after transposing\n",
    "np.dot(sam1,sam2T)"
   ]
  },
  {
   "cell_type": "markdown",
   "id": "2ca73e3f",
   "metadata": {},
   "source": [
    "### Use Arrays to formulate a data frame"
   ]
  },
  {
   "cell_type": "code",
   "execution_count": 54,
   "id": "5fc2823a",
   "metadata": {},
   "outputs": [
    {
     "data": {
      "text/plain": [
       "array([[8, 9, 3],\n",
       "       [8, 8, 0],\n",
       "       [5, 3, 9],\n",
       "       [9, 5, 7],\n",
       "       [6, 0, 4]])"
      ]
     },
     "execution_count": 54,
     "metadata": {},
     "output_type": "execute_result"
    }
   ],
   "source": [
    "#create a random array using np.random.randint()\n",
    "np.random.seed(3)\n",
    "sample9 = np.random.randint(10, size=(5,3))\n",
    "sample9"
   ]
  },
  {
   "cell_type": "code",
   "execution_count": 55,
   "id": "98d8f678",
   "metadata": {},
   "outputs": [],
   "source": [
    "#generate a DataFrame from the sample array\n",
    "df1 = pd.DataFrame(sample9) "
   ]
  },
  {
   "cell_type": "code",
   "execution_count": 56,
   "id": "1e300e9c",
   "metadata": {},
   "outputs": [
    {
     "data": {
      "text/html": [
       "<div>\n",
       "<style scoped>\n",
       "    .dataframe tbody tr th:only-of-type {\n",
       "        vertical-align: middle;\n",
       "    }\n",
       "\n",
       "    .dataframe tbody tr th {\n",
       "        vertical-align: top;\n",
       "    }\n",
       "\n",
       "    .dataframe thead th {\n",
       "        text-align: right;\n",
       "    }\n",
       "</style>\n",
       "<table border=\"1\" class=\"dataframe\">\n",
       "  <thead>\n",
       "    <tr style=\"text-align: right;\">\n",
       "      <th></th>\n",
       "      <th>0</th>\n",
       "      <th>1</th>\n",
       "      <th>2</th>\n",
       "    </tr>\n",
       "  </thead>\n",
       "  <tbody>\n",
       "    <tr>\n",
       "      <th>0</th>\n",
       "      <td>8</td>\n",
       "      <td>9</td>\n",
       "      <td>3</td>\n",
       "    </tr>\n",
       "    <tr>\n",
       "      <th>1</th>\n",
       "      <td>8</td>\n",
       "      <td>8</td>\n",
       "      <td>0</td>\n",
       "    </tr>\n",
       "    <tr>\n",
       "      <th>2</th>\n",
       "      <td>5</td>\n",
       "      <td>3</td>\n",
       "      <td>9</td>\n",
       "    </tr>\n",
       "    <tr>\n",
       "      <th>3</th>\n",
       "      <td>9</td>\n",
       "      <td>5</td>\n",
       "      <td>7</td>\n",
       "    </tr>\n",
       "    <tr>\n",
       "      <th>4</th>\n",
       "      <td>6</td>\n",
       "      <td>0</td>\n",
       "      <td>4</td>\n",
       "    </tr>\n",
       "  </tbody>\n",
       "</table>\n",
       "</div>"
      ],
      "text/plain": [
       "   0  1  2\n",
       "0  8  9  3\n",
       "1  8  8  0\n",
       "2  5  3  9\n",
       "3  9  5  7\n",
       "4  6  0  4"
      ]
     },
     "execution_count": 56,
     "metadata": {},
     "output_type": "execute_result"
    }
   ],
   "source": [
    "df1"
   ]
  },
  {
   "cell_type": "code",
   "execution_count": 67,
   "id": "b22a42f9",
   "metadata": {},
   "outputs": [],
   "source": [
    "#Rename the columns and index values\n",
    "df1 = df1.rename(columns={0: \"BB\", 1: \"FB\", 2: \"HF\"})\n",
    "df1 = df1.rename(index ={0: \"Mon\", 1:\"Tue\", 2:\"Wen\", 3:\"Thu\", 4:\"Fri\"})"
   ]
  },
  {
   "cell_type": "code",
   "execution_count": 68,
   "id": "c2ddfa0e",
   "metadata": {},
   "outputs": [
    {
     "data": {
      "text/html": [
       "<div>\n",
       "<style scoped>\n",
       "    .dataframe tbody tr th:only-of-type {\n",
       "        vertical-align: middle;\n",
       "    }\n",
       "\n",
       "    .dataframe tbody tr th {\n",
       "        vertical-align: top;\n",
       "    }\n",
       "\n",
       "    .dataframe thead th {\n",
       "        text-align: right;\n",
       "    }\n",
       "</style>\n",
       "<table border=\"1\" class=\"dataframe\">\n",
       "  <thead>\n",
       "    <tr style=\"text-align: right;\">\n",
       "      <th></th>\n",
       "      <th>BB</th>\n",
       "      <th>FB</th>\n",
       "      <th>HF</th>\n",
       "    </tr>\n",
       "  </thead>\n",
       "  <tbody>\n",
       "    <tr>\n",
       "      <th>Mon</th>\n",
       "      <td>8</td>\n",
       "      <td>9</td>\n",
       "      <td>3</td>\n",
       "    </tr>\n",
       "    <tr>\n",
       "      <th>Tue</th>\n",
       "      <td>8</td>\n",
       "      <td>8</td>\n",
       "      <td>0</td>\n",
       "    </tr>\n",
       "    <tr>\n",
       "      <th>Wen</th>\n",
       "      <td>5</td>\n",
       "      <td>3</td>\n",
       "      <td>9</td>\n",
       "    </tr>\n",
       "    <tr>\n",
       "      <th>Thu</th>\n",
       "      <td>9</td>\n",
       "      <td>5</td>\n",
       "      <td>7</td>\n",
       "    </tr>\n",
       "    <tr>\n",
       "      <th>Fri</th>\n",
       "      <td>6</td>\n",
       "      <td>0</td>\n",
       "      <td>4</td>\n",
       "    </tr>\n",
       "  </tbody>\n",
       "</table>\n",
       "</div>"
      ],
      "text/plain": [
       "     BB  FB  HF\n",
       "Mon   8   9   3\n",
       "Tue   8   8   0\n",
       "Wen   5   3   9\n",
       "Thu   9   5   7\n",
       "Fri   6   0   4"
      ]
     },
     "execution_count": 68,
     "metadata": {},
     "output_type": "execute_result"
    }
   ],
   "source": [
    "df1"
   ]
  },
  {
   "cell_type": "code",
   "execution_count": null,
   "id": "afbf51d7",
   "metadata": {},
   "outputs": [],
   "source": []
  }
 ],
 "metadata": {
  "kernelspec": {
   "display_name": "Python 3 (ipykernel)",
   "language": "python",
   "name": "python3"
  },
  "language_info": {
   "codemirror_mode": {
    "name": "ipython",
    "version": 3
   },
   "file_extension": ".py",
   "mimetype": "text/x-python",
   "name": "python",
   "nbconvert_exporter": "python",
   "pygments_lexer": "ipython3",
   "version": "3.10.9"
  }
 },
 "nbformat": 4,
 "nbformat_minor": 5
}
